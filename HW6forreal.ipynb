{
 "cells": [
  {
   "cell_type": "markdown",
   "metadata": {},
   "source": [
    "**Gabe Darley**\n",
    "\n",
    "**CMPS 3240-01**\n",
    "\n",
    "**Homework 6**"
   ]
  },
  {
   "cell_type": "markdown",
   "metadata": {},
   "source": [
    "a. Generate two-dimensional data."
   ]
  },
  {
   "cell_type": "code",
   "execution_count": 27,
   "metadata": {},
   "outputs": [],
   "source": [
    "import numpy as np\n",
    "import matplotlib.pyplot as plt\n",
    "import math\n",
    "\n",
    "#Generate random two dimensional data\n",
    "X_one = np.random.uniform(-1, 1, 100)\n",
    "X_two = np.random.uniform(-1, 1, 100)\n",
    "\n",
    "X = np.dstack((np.ones(X_one.shape), X_one, X_two))[0]"
   ]
  },
  {
   "cell_type": "markdown",
   "metadata": {},
   "source": [
    "b. Compute true labels."
   ]
  },
  {
   "cell_type": "code",
   "execution_count": 28,
   "metadata": {},
   "outputs": [],
   "source": [
    "#Establish arrays given by assignment\n",
    "w1 = np.array([0, 1, -1])\n",
    "w2 = np.array([0, 1, 1])\n",
    "\n",
    "#Calculat hypotheses based on arrays\n",
    "h1 = np.sign(np.matmul(X, np.transpose(w1)))\n",
    "h2 = np.sign(np.matmul(X, np.transpose(w2)))\n",
    "\n",
    "#Find sign of results from above, save indices\n",
    "h1_pos = np.where(h1 == 1)[0]\n",
    "h1_neg = np.where(h1 == -1)[0]\n",
    "h2_pos = np.where(h2 == 1)[0]\n",
    "h2_neg = np.where(h2 == -1)[0]\n",
    "\n",
    "#XOR method to find true values\n",
    "true_pos_one = np.intersect1d(h1_pos, h2_neg)\n",
    "true_pos_two = np.intersect1d(h2_pos, h1_neg)\n",
    "true_pos = np.concatenate((true_pos_one, true_pos_two))\n",
    "\n",
    "true_neg = np.delete(np.arange(100), true_pos, 0)"
   ]
  },
  {
   "cell_type": "markdown",
   "metadata": {},
   "source": [
    "c. Assign weight matrices and implement forward propagation."
   ]
  },
  {
   "cell_type": "code",
   "execution_count": 29,
   "metadata": {},
   "outputs": [],
   "source": [
    "#Establish weight matrices\n",
    "W1 = np.array([w1, w2])\n",
    "W2 = np.array([[-1.5, 1, -1], [-1.5, -1, 1]])\n",
    "W3 = np.array([[1.5, 1, 1]])\n",
    "\n",
    "W_list = [W1, W2, W3]\n",
    "fp_list = []\n",
    "\n",
    "#Run through every data point in X\n",
    "for i in range(len(X)):\n",
    "    #Start with [1, x1, x2] format of node\n",
    "    current = X[i]\n",
    "    \n",
    "    #Pass through every level l of propagation\n",
    "    for j in range(len(W_list)):\n",
    "        #We are using theta = sign(s) for each point\n",
    "        s = np.matmul(current, np.transpose(W_list[j]))\n",
    "        theta = np.sign(s)\n",
    "        \n",
    "        #Use this conditional to check if at last W, then we just need one value.\n",
    "        if j == 2:\n",
    "            current = theta[0]\n",
    "        else:\n",
    "            current = [1, theta[0], theta[1]]\n",
    "    \n",
    "    #Keep track of the theta values in list that was initialized earlier\n",
    "    fp_list.append(current)"
   ]
  },
  {
   "cell_type": "markdown",
   "metadata": {},
   "source": [
    "d. Use forward propagation to predict values, then calculate error."
   ]
  },
  {
   "cell_type": "code",
   "execution_count": 30,
   "metadata": {},
   "outputs": [
    {
     "name": "stdout",
     "output_type": "stream",
     "text": [
      "Squared Error for theta = sign(t): 0.000000\n"
     ]
    }
   ],
   "source": [
    "#Make an easily comparable list of the true signs of each point\n",
    "#Forward propagation list was already created in previous cell\n",
    "true_list = [0] * 100\n",
    "for i in true_pos:\n",
    "    true_list[i] = 1.0\n",
    "for i in true_neg:\n",
    "    true_list[i] = -1.0\n",
    "\n",
    "#Compute Squared Error, squaring difference of every pair of values between true and predicted lists\n",
    "temp = (np.subtract(true_list, fp_list)) ** 2\n",
    "e_sum = np.sum(temp)\n",
    "        \n",
    "e_in = e_sum / 100.\n",
    "print(\"Squared Error for theta = sign(t): %f\" % (e_in))"
   ]
  },
  {
   "cell_type": "markdown",
   "metadata": {},
   "source": [
    "e. Try prediction again, using theta = tanh."
   ]
  },
  {
   "cell_type": "code",
   "execution_count": 31,
   "metadata": {},
   "outputs": [
    {
     "name": "stdout",
     "output_type": "stream",
     "text": [
      "Squared Error for theta = tanh(t): 0.690889\n"
     ]
    }
   ],
   "source": [
    "#Reset propagation list\n",
    "fp_list = []\n",
    "\n",
    "#Run through every data point in X\n",
    "for i in range(len(X)):\n",
    "    #Start with [1, x1, x2] format of node\n",
    "    current = X[i]\n",
    "    \n",
    "    #Pass through every level l of propagation\n",
    "    for j in range(len(W_list)):\n",
    "        #We are using theta = tanh(s) for each point\n",
    "        s = np.matmul(current, np.transpose(W_list[j]))\n",
    "        theta = np.tanh(s)\n",
    "        \n",
    "        #Use this conditional to check if at last W, then we just need one value.\n",
    "        if j == 2:\n",
    "            current = theta[0]\n",
    "        else:\n",
    "            current = [1, theta[0], theta[1]]\n",
    "    \n",
    "    #Keep track of the theta values in list that was initialized earlier\n",
    "    fp_list.append(current)\n",
    "\n",
    "#Calculate Squared Error\n",
    "temp = (np.subtract(true_list, fp_list)) ** 2\n",
    "e_sum = np.sum(temp)\n",
    "        \n",
    "e_in = e_sum / 100.\n",
    "print(\"Squared Error for theta = tanh(t): %f\" % (e_in))"
   ]
  },
  {
   "cell_type": "markdown",
   "metadata": {},
   "source": [
    "Graph of the points and their true values based on XOR method from before:"
   ]
  },
  {
   "cell_type": "code",
   "execution_count": 32,
   "metadata": {},
   "outputs": [
    {
     "data": {
      "image/png": "[encoded data removed]",
      "text/plain": [
       "<Figure size 432x288 with 1 Axes>"
      ]
     },
     "metadata": {
      "needs_background": "light"
     },
     "output_type": "display_data"
    }
   ],
   "source": [
    "plt.clf()\n",
    "\n",
    "plt.plot(X[true_pos, 1], X[true_pos, 2], 'ro')\n",
    "plt.plot(X[true_neg, 1], X[true_neg, 2], 'bx')\n",
    "\n",
    "plt.show()"
   ]
  },
  {
   "cell_type": "code",
   "execution_count": null,
   "metadata": {},
   "outputs": [],
   "source": []
  }
 ],
 "metadata": {
  "kernelspec": {
   "display_name": "Python 3",
   "language": "python",
   "name": "python3"
  },
  "language_info": {
   "codemirror_mode": {
    "name": "ipython",
    "version": 3
   },
   "file_extension": ".py",
   "mimetype": "text/x-python",
   "name": "python",
   "nbconvert_exporter": "python",
   "pygments_lexer": "ipython3",
   "version": "3.8.3"
  }
 },
 "nbformat": 4,
 "nbformat_minor": 4
}
